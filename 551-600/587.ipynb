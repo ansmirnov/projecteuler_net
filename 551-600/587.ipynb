{
 "cells": [
  {
   "cell_type": "code",
   "execution_count": 1,
   "metadata": {
    "collapsed": true
   },
   "outputs": [],
   "source": [
    "import math"
   ]
  },
  {
   "cell_type": "code",
   "execution_count": 2,
   "metadata": {
    "collapsed": false
   },
   "outputs": [],
   "source": [
    "r = 1.0\n",
    "Sl = ((2.0 * r)**2 - math.pi * r**2) / 4"
   ]
  },
  {
   "cell_type": "code",
   "execution_count": 3,
   "metadata": {
    "collapsed": true
   },
   "outputs": [],
   "source": [
    "def g(x, n):\n",
    "    x += 0.0\n",
    "    n += 0.0\n",
    "    f1 = x / n\n",
    "    f2 = 1.0 - math.sqrt(1.0 - (x - 1.0)**2)\n",
    "    return min(f1, f2)\n",
    "\n",
    "def f(n):\n",
    "    return lambda x: g(x, n)"
   ]
  },
  {
   "cell_type": "code",
   "execution_count": 4,
   "metadata": {
    "collapsed": true
   },
   "outputs": [],
   "source": [
    "def S(f, n, a=0.0, b=1.0):\n",
    "    a += 0.0\n",
    "    b += 0.0\n",
    "    step = (b - a) / n\n",
    "    half = step / 2\n",
    "    res = 0.0\n",
    "    for i in range(n):\n",
    "        x = step * i + half\n",
    "        res += f(x) * step\n",
    "    return res"
   ]
  },
  {
   "cell_type": "code",
   "execution_count": 5,
   "metadata": {
    "collapsed": false
   },
   "outputs": [
    {
     "name": "stdout",
     "output_type": "stream",
     "text": [
      "0.0009740399294017682\n"
     ]
    }
   ],
   "source": [
    "print (S(f(2300), 10000)/Sl)"
   ]
  },
  {
   "cell_type": "code",
   "execution_count": 6,
   "metadata": {
    "collapsed": false
   },
   "outputs": [
    {
     "name": "stdout",
     "output_type": "stream",
     "text": [
      "2240 0.0009996099178673568\n"
     ]
    }
   ],
   "source": [
    "def goal(y):\n",
    "    return y < 0.001\n",
    "\n",
    "for i in range(2200, 2300):\n",
    "    y = S(f(i), 10000)/Sl\n",
    "    if goal(y):\n",
    "        print (i, y)\n",
    "        break"
   ]
  },
  {
   "cell_type": "code",
   "execution_count": null,
   "metadata": {
    "collapsed": true
   },
   "outputs": [],
   "source": []
  }
 ],
 "metadata": {
  "anaconda-cloud": {},
  "kernelspec": {
   "display_name": "Python [conda root]",
   "language": "python",
   "name": "conda-root-py"
  },
  "language_info": {
   "codemirror_mode": {
    "name": "ipython",
    "version": 3
   },
   "file_extension": ".py",
   "mimetype": "text/x-python",
   "name": "python",
   "nbconvert_exporter": "python",
   "pygments_lexer": "ipython3",
   "version": "3.5.2"
  }
 },
 "nbformat": 4,
 "nbformat_minor": 1
}
